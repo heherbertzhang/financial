{
 "cells": [
  {
   "cell_type": "code",
   "execution_count": 5,
   "metadata": {
    "collapsed": true
   },
   "outputs": [],
   "source": [
    "%matplotlib inline"
   ]
  },
  {
   "cell_type": "code",
   "execution_count": 590,
   "metadata": {
    "collapsed": false
   },
   "outputs": [],
   "source": [
    "import pandas as pd\n",
    "import matplotlib.pyplot as plt\n",
    "import numpy as np\n",
    "import datetime as dt\n",
    "import pandas_datareader as pdr\n",
    "import pandas_datareader.data as web\n",
    "\n",
    "\n",
    "def read_csv_data(file, symbol_name):\n",
    "    # df.datetime(2017,1,1)\n",
    "    df_temp = pd.read_csv(file, index_col='Date', parse_dates=True,\n",
    "                          usecols=['Date', 'Adj Close'], na_values=['nan'])\n",
    "    df_temp = df_temp.rename(columns={'Adj Close': symbol_name})\n",
    "    df_temp.index.name = None\n",
    "    df_temp = df_temp.iloc[::-1]\n",
    "    return df_temp\n",
    "\n",
    "def filter_dates(df_temp, start_date, end_date):\n",
    "    dates = pd.date_range(start_date, end_date)\n",
    "    df = pd.DataFrame(index=dates)\n",
    "    df = df.join(df_temp) # left join\n",
    "    return df\n",
    "\n",
    "def get_data_online(symbol, start_date = None, end_date = None):\n",
    "    df = pdr.get_data_yahoo(symbol, start_date, end_date)\n",
    "    df = df.loc[:,['Adj Close']]\n",
    "    df = df.rename(columns={'Adj Close' : symbol})\n",
    "    return df\n",
    "\n",
    "def get_datas_online(symbols, start_date = None, end_date = None, add_ref = True):\n",
    "    df = get_data_online(symbols[0], start_date, end_date) \\\n",
    "        if not add_ref else get_data_online('SPY',start_date, end_date)\n",
    "    for sym in (symbols[1:] if not add_ref else symbols):\n",
    "        df_temp = get_data_online(sym, start_date, end_date)\n",
    "        df = df.join(df_temp)\n",
    "    return df\n",
    "\n",
    "def get_and_save_to_csv(symbol, start_date = None, end_date = None):\n",
    "    df = pdr.get_data_yahoo(symbol, start_date, end_date)\n",
    "    df.to_csv('./data/'+symbol+'.csv')\n",
    "    return df\n",
    "\n",
    "def fill_na(df):\n",
    "    df = df.fillna(method='ffill')\n",
    "    df = df.fillna(method='bfill')\n",
    "    return df\n",
    "\n",
    "def plot_data(df, title=\"Stock\", xlabel=\"Date\", ylabel=\"Price\"):\n",
    "    \"\"\"Plot stock prices with a custom title and meaningful axis labels.\"\"\"\n",
    "    ax = df.plot(title=title, fontsize=12)\n",
    "    ax.set_xlabel(xlabel)\n",
    "    ax.set_ylabel(ylabel)\n",
    "    \n",
    "    return ax\n",
    "    \n",
    "def compute_daily_return(df):\n",
    "    daily_return = (df[1:]/df[:-1].values) - 1\n",
    "    return daily_return\n",
    "\n",
    "def compute_numpy_std(df):\n",
    "    std = np.std(df, dtype=np.float64, ddof=1)\n",
    "    return std\n",
    "\n",
    "def compute_sharp_ratio(returns, sample_per_year=252):\n",
    "    # daily_returns or weekly ...\n",
    "    sr = math.sqrt(sample_per_year) * returns.mean() / returns.std()\n",
    "    return sr\n",
    "\n",
    "def compute_cumulative_return(df):\n",
    "    cr = df[:-1]/df.ix[0] - 1\n",
    "    return cr\n",
    "\n",
    "def compute_portfolio_value(prices, allocs, start_value=1, accumu_ret=False):\n",
    "    #prices = dfs.as_matrix() # convert to numpy matrix\n",
    "    normed = prices / prices.ix[0]\n",
    "    accumu_change = allocs * normed\n",
    "    if not accumu_ret:\n",
    "        pos_vals = accumu_change * start_value\n",
    "    else:\n",
    "        pos_vals = accumu_change\n",
    "    port_vals = pos_vals.sum(axis=1)\n",
    "    return port_vals\n",
    "\n",
    "def compute_rolling_mean(df, window_size=20):\n",
    "    rm = df.rolling(window_size).mean()\n",
    "    return rm\n",
    "\n",
    "def append_to_plot(df, ax, label=''):\n",
    "    df.plot(label=label, ax=ax)\n",
    "    ax.legend(loc='upper left')\n",
    "    #plt.show()\n",
    "\n",
    "def plot_scatter(df, x_name, y_name):\n",
    "    ax = df.plot(kind='scatter', x=x_name, y=y_name)\n",
    "    return ax\n",
    "    \n",
    "def compute_correlation(df):\n",
    "    return df.corr(method='pearson')\n",
    "    \n",
    "def fit_line(dfx, dfy, degree=1, plot=True):\n",
    "    coef = np.polyfit(dfx, dfy, degree)\n",
    "    if plot:\n",
    "        plt.plot(dfx, np.polyval(coef, dfx), '-', color='r')\n",
    "    return coef # beta & alpha for degree 1\n",
    "\n",
    "def compute_portfolio_sr(port_df, allocs):\n",
    "    port_v = compute_portfolio_value(port_df, allocs)\n",
    "    daily_r = compute_daily_return(port_v)\n",
    "    sr = compute_sharp_ratio(daily_r)\n",
    "    return sr\n",
    "    \n",
    "import scipy.optimize as spo\n",
    "import math\n",
    "def init_random(size):\n",
    "    #init = np.float32([1.0/size]*size)\n",
    "    init = np.random.uniform(0,1.0,(size,))\n",
    "    return init\n",
    "\n",
    "def optimize_portfolio(port_df):\n",
    "    # optimize the sharp ratio to be the largest\n",
    "    size = port_df.shape[1]\n",
    "    x_guess = init_random(size)\n",
    "    def f(allocs, port_df):\n",
    "        return -compute_portfolio_sr(port_df, allocs)\n",
    "    \n",
    "    res = spo.minimize(f, x_guess, args=(port_df,), \n",
    "                       constraints = [{'type':'eq', 'fun':lambda x: 1-sum(x)}],\n",
    "                       bounds = [(0,1.0)]*size,\n",
    "                       method='SLSQP', options={'disp':True})\n",
    "    return res"
   ]
  },
  {
   "cell_type": "code",
   "execution_count": 494,
   "metadata": {
    "collapsed": true
   },
   "outputs": [],
   "source": [
    "def marketsim(orders:pd.DataFrame, start_val) -> pd.DataFrame:\n",
    "    '''\n",
    "    @type orders: pd.DataFrame\n",
    "    '''\n",
    "    assert(type(orders) is pd.DataFrame)\n",
    "    orders = orders.sort_index()\n",
    "    syms = orders['Symbol'].drop_duplicates()\n",
    "    sd = orders.index.values[0] \n",
    "    ed = orders.index.values[-1]\n",
    "    # only for trading dates\n",
    "    dates = get_data_online('SPY', sd, ed).index\n",
    "    prices = get_datas_online(syms, sd, ed, add_ref=False)\n",
    "    cash = start_val\n",
    "    \n",
    "    # build portfolio\n",
    "    cols = syms\n",
    "    cols['Cash'] = 'Cash'\n",
    "    cols['Value'] = 'Value'\n",
    "    portfolio = pd.DataFrame(index=dates, columns=cols).fillna(value=0.0)\n",
    "    portfolio['Cash'].iloc[0] = cash # init cash\n",
    "    \n",
    "    # go through each date\n",
    "    #leverage = (sum(abs(all stock positions))) / (sum(all stock positions) + cash)\n",
    "    for datei in range(0, len(dates)):\n",
    "        if datei > 0:\n",
    "            portfolio.iloc[datei] = portfolio.iloc[datei-1]\n",
    "            \n",
    "        date = portfolio.index[datei]\n",
    "\n",
    "        if date in orders.index:\n",
    "            rows = orders.ix[date,:]\n",
    "            dim = len(rows.shape)\n",
    "            if dim == 1:\n",
    "                symbol = rows[0]\n",
    "                action = rows[1]\n",
    "                share = rows[2]\n",
    "                if action == 'SELL':\n",
    "                    share = -share\n",
    "                cash_spent = share * prices[symbol][date]\n",
    "                portfolio[symbol][date] += share\n",
    "                cash -= cash_spent\n",
    "            else:\n",
    "                for row in rows.itertuples():\n",
    "                    symbol = row[1]\n",
    "                    action = row[2]\n",
    "                    share = row[3]\n",
    "                    if action == 'SELL':\n",
    "                        share = -share\n",
    "                    cash_spent = share * prices[symbol][date]\n",
    "                    portfolio[symbol][date] += share\n",
    "                    cash -= cash_spent\n",
    "\n",
    "        # update portfolio value\n",
    "        portfolio['Cash'][date] = cash\n",
    "        value = cash\n",
    "        for sym, share in portfolio.ix[date, 0:-2].iteritems():\n",
    "            value += prices[sym][date] * share\n",
    "        portfolio['Value'][date] = value\n",
    "        \n",
    "    return portfolio"
   ]
  },
  {
   "cell_type": "code",
   "execution_count": 426,
   "metadata": {
    "collapsed": false
   },
   "outputs": [
    {
     "data": {
      "text/html": [
       "<div>\n",
       "<table border=\"1\" class=\"dataframe\">\n",
       "  <thead>\n",
       "    <tr style=\"text-align: right;\">\n",
       "      <th></th>\n",
       "      <th>Symbol</th>\n",
       "      <th>Order</th>\n",
       "      <th>Shares</th>\n",
       "    </tr>\n",
       "    <tr>\n",
       "      <th>Date</th>\n",
       "      <th></th>\n",
       "      <th></th>\n",
       "      <th></th>\n",
       "    </tr>\n",
       "  </thead>\n",
       "  <tbody>\n",
       "    <tr>\n",
       "      <th>2011-01-10</th>\n",
       "      <td>AAPL</td>\n",
       "      <td>BUY</td>\n",
       "      <td>1500</td>\n",
       "    </tr>\n",
       "    <tr>\n",
       "      <th>2011-01-13</th>\n",
       "      <td>AAPL</td>\n",
       "      <td>SELL</td>\n",
       "      <td>1500</td>\n",
       "    </tr>\n",
       "    <tr>\n",
       "      <th>2011-01-13</th>\n",
       "      <td>IBM</td>\n",
       "      <td>BUY</td>\n",
       "      <td>4000</td>\n",
       "    </tr>\n",
       "    <tr>\n",
       "      <th>2011-01-26</th>\n",
       "      <td>GOOG</td>\n",
       "      <td>BUY</td>\n",
       "      <td>1000</td>\n",
       "    </tr>\n",
       "    <tr>\n",
       "      <th>2011-02-02</th>\n",
       "      <td>XOM</td>\n",
       "      <td>SELL</td>\n",
       "      <td>4000</td>\n",
       "    </tr>\n",
       "    <tr>\n",
       "      <th>2011-02-10</th>\n",
       "      <td>XOM</td>\n",
       "      <td>BUY</td>\n",
       "      <td>4000</td>\n",
       "    </tr>\n",
       "    <tr>\n",
       "      <th>2011-03-03</th>\n",
       "      <td>GOOG</td>\n",
       "      <td>SELL</td>\n",
       "      <td>1000</td>\n",
       "    </tr>\n",
       "    <tr>\n",
       "      <th>2011-03-03</th>\n",
       "      <td>IBM</td>\n",
       "      <td>SELL</td>\n",
       "      <td>2200</td>\n",
       "    </tr>\n",
       "    <tr>\n",
       "      <th>2011-05-03</th>\n",
       "      <td>IBM</td>\n",
       "      <td>BUY</td>\n",
       "      <td>1500</td>\n",
       "    </tr>\n",
       "    <tr>\n",
       "      <th>2011-06-03</th>\n",
       "      <td>IBM</td>\n",
       "      <td>SELL</td>\n",
       "      <td>3300</td>\n",
       "    </tr>\n",
       "    <tr>\n",
       "      <th>2011-06-10</th>\n",
       "      <td>AAPL</td>\n",
       "      <td>BUY</td>\n",
       "      <td>1200</td>\n",
       "    </tr>\n",
       "    <tr>\n",
       "      <th>2011-08-01</th>\n",
       "      <td>GOOG</td>\n",
       "      <td>BUY</td>\n",
       "      <td>55</td>\n",
       "    </tr>\n",
       "    <tr>\n",
       "      <th>2011-08-01</th>\n",
       "      <td>GOOG</td>\n",
       "      <td>SELL</td>\n",
       "      <td>55</td>\n",
       "    </tr>\n",
       "    <tr>\n",
       "      <th>2011-12-20</th>\n",
       "      <td>AAPL</td>\n",
       "      <td>SELL</td>\n",
       "      <td>1200</td>\n",
       "    </tr>\n",
       "  </tbody>\n",
       "</table>\n",
       "</div>"
      ],
      "text/plain": [
       "           Symbol Order  Shares\n",
       "Date                           \n",
       "2011-01-10   AAPL   BUY    1500\n",
       "2011-01-13   AAPL  SELL    1500\n",
       "2011-01-13    IBM   BUY    4000\n",
       "2011-01-26   GOOG   BUY    1000\n",
       "2011-02-02    XOM  SELL    4000\n",
       "2011-02-10    XOM   BUY    4000\n",
       "2011-03-03   GOOG  SELL    1000\n",
       "2011-03-03    IBM  SELL    2200\n",
       "2011-05-03    IBM   BUY    1500\n",
       "2011-06-03    IBM  SELL    3300\n",
       "2011-06-10   AAPL   BUY    1200\n",
       "2011-08-01   GOOG   BUY      55\n",
       "2011-08-01   GOOG  SELL      55\n",
       "2011-12-20   AAPL  SELL    1200"
      ]
     },
     "execution_count": 426,
     "metadata": {},
     "output_type": "execute_result"
    }
   ],
   "source": [
    "orders = pd.read_csv('./orders/orders.csv', index_col='Date',\n",
    "                     parse_dates=True, na_values=['nan'])\n",
    "orders.sort_index()"
   ]
  },
  {
   "cell_type": "code",
   "execution_count": 496,
   "metadata": {
    "collapsed": false
   },
   "outputs": [
    {
     "data": {
      "text/html": [
       "<div>\n",
       "<table border=\"1\" class=\"dataframe\">\n",
       "  <thead>\n",
       "    <tr style=\"text-align: right;\">\n",
       "      <th>Symbol</th>\n",
       "      <th>AAPL</th>\n",
       "      <th>IBM</th>\n",
       "      <th>GOOG</th>\n",
       "      <th>XOM</th>\n",
       "      <th>Cash</th>\n",
       "      <th>Value</th>\n",
       "    </tr>\n",
       "    <tr>\n",
       "      <th>Date</th>\n",
       "      <th></th>\n",
       "      <th></th>\n",
       "      <th></th>\n",
       "      <th></th>\n",
       "      <th></th>\n",
       "      <th></th>\n",
       "    </tr>\n",
       "  </thead>\n",
       "  <tbody>\n",
       "    <tr>\n",
       "      <th>2011-01-10</th>\n",
       "      <td>1500.0</td>\n",
       "      <td>0.0</td>\n",
       "      <td>0.0</td>\n",
       "      <td>0.0</td>\n",
       "      <td>9.334485e+05</td>\n",
       "      <td>1.000000e+06</td>\n",
       "    </tr>\n",
       "    <tr>\n",
       "      <th>2011-01-11</th>\n",
       "      <td>1500.0</td>\n",
       "      <td>0.0</td>\n",
       "      <td>0.0</td>\n",
       "      <td>0.0</td>\n",
       "      <td>9.334485e+05</td>\n",
       "      <td>9.998426e+05</td>\n",
       "    </tr>\n",
       "    <tr>\n",
       "      <th>2011-01-12</th>\n",
       "      <td>1500.0</td>\n",
       "      <td>0.0</td>\n",
       "      <td>0.0</td>\n",
       "      <td>0.0</td>\n",
       "      <td>9.334485e+05</td>\n",
       "      <td>1.000383e+06</td>\n",
       "    </tr>\n",
       "    <tr>\n",
       "      <th>2011-01-13</th>\n",
       "      <td>0.0</td>\n",
       "      <td>4000.0</td>\n",
       "      <td>0.0</td>\n",
       "      <td>0.0</td>\n",
       "      <td>4.903521e+05</td>\n",
       "      <td>1.000628e+06</td>\n",
       "    </tr>\n",
       "    <tr>\n",
       "      <th>2011-01-14</th>\n",
       "      <td>0.0</td>\n",
       "      <td>4000.0</td>\n",
       "      <td>0.0</td>\n",
       "      <td>0.0</td>\n",
       "      <td>4.903521e+05</td>\n",
       "      <td>1.004674e+06</td>\n",
       "    </tr>\n",
       "    <tr>\n",
       "      <th>2011-01-18</th>\n",
       "      <td>0.0</td>\n",
       "      <td>4000.0</td>\n",
       "      <td>0.0</td>\n",
       "      <td>0.0</td>\n",
       "      <td>4.903521e+05</td>\n",
       "      <td>1.006902e+06</td>\n",
       "    </tr>\n",
       "    <tr>\n",
       "      <th>2011-01-19</th>\n",
       "      <td>0.0</td>\n",
       "      <td>4000.0</td>\n",
       "      <td>0.0</td>\n",
       "      <td>0.0</td>\n",
       "      <td>4.903521e+05</td>\n",
       "      <td>1.024184e+06</td>\n",
       "    </tr>\n",
       "    <tr>\n",
       "      <th>2011-01-20</th>\n",
       "      <td>0.0</td>\n",
       "      <td>4000.0</td>\n",
       "      <td>0.0</td>\n",
       "      <td>0.0</td>\n",
       "      <td>4.903521e+05</td>\n",
       "      <td>1.024561e+06</td>\n",
       "    </tr>\n",
       "    <tr>\n",
       "      <th>2011-01-21</th>\n",
       "      <td>0.0</td>\n",
       "      <td>4000.0</td>\n",
       "      <td>0.0</td>\n",
       "      <td>0.0</td>\n",
       "      <td>4.903521e+05</td>\n",
       "      <td>1.023532e+06</td>\n",
       "    </tr>\n",
       "    <tr>\n",
       "      <th>2011-01-24</th>\n",
       "      <td>0.0</td>\n",
       "      <td>4000.0</td>\n",
       "      <td>0.0</td>\n",
       "      <td>0.0</td>\n",
       "      <td>4.903521e+05</td>\n",
       "      <td>1.037693e+06</td>\n",
       "    </tr>\n",
       "    <tr>\n",
       "      <th>2011-01-25</th>\n",
       "      <td>0.0</td>\n",
       "      <td>4000.0</td>\n",
       "      <td>0.0</td>\n",
       "      <td>0.0</td>\n",
       "      <td>4.903521e+05</td>\n",
       "      <td>1.043899e+06</td>\n",
       "    </tr>\n",
       "    <tr>\n",
       "      <th>2011-01-26</th>\n",
       "      <td>0.0</td>\n",
       "      <td>4000.0</td>\n",
       "      <td>1000.0</td>\n",
       "      <td>0.0</td>\n",
       "      <td>1.824095e+05</td>\n",
       "      <td>1.042528e+06</td>\n",
       "    </tr>\n",
       "    <tr>\n",
       "      <th>2011-01-27</th>\n",
       "      <td>0.0</td>\n",
       "      <td>4000.0</td>\n",
       "      <td>1000.0</td>\n",
       "      <td>0.0</td>\n",
       "      <td>1.824095e+05</td>\n",
       "      <td>1.042776e+06</td>\n",
       "    </tr>\n",
       "    <tr>\n",
       "      <th>2011-01-28</th>\n",
       "      <td>0.0</td>\n",
       "      <td>4000.0</td>\n",
       "      <td>1000.0</td>\n",
       "      <td>0.0</td>\n",
       "      <td>1.824095e+05</td>\n",
       "      <td>1.028506e+06</td>\n",
       "    </tr>\n",
       "    <tr>\n",
       "      <th>2011-01-31</th>\n",
       "      <td>0.0</td>\n",
       "      <td>4000.0</td>\n",
       "      <td>1000.0</td>\n",
       "      <td>0.0</td>\n",
       "      <td>1.824095e+05</td>\n",
       "      <td>1.037757e+06</td>\n",
       "    </tr>\n",
       "    <tr>\n",
       "      <th>2011-02-01</th>\n",
       "      <td>0.0</td>\n",
       "      <td>4000.0</td>\n",
       "      <td>1000.0</td>\n",
       "      <td>0.0</td>\n",
       "      <td>1.824095e+05</td>\n",
       "      <td>1.048441e+06</td>\n",
       "    </tr>\n",
       "    <tr>\n",
       "      <th>2011-02-02</th>\n",
       "      <td>0.0</td>\n",
       "      <td>4000.0</td>\n",
       "      <td>1000.0</td>\n",
       "      <td>-4000.0</td>\n",
       "      <td>4.608351e+05</td>\n",
       "      <td>1.048029e+06</td>\n",
       "    </tr>\n",
       "    <tr>\n",
       "      <th>2011-02-03</th>\n",
       "      <td>0.0</td>\n",
       "      <td>4000.0</td>\n",
       "      <td>1000.0</td>\n",
       "      <td>-4000.0</td>\n",
       "      <td>4.608351e+05</td>\n",
       "      <td>1.047794e+06</td>\n",
       "    </tr>\n",
       "    <tr>\n",
       "      <th>2011-02-04</th>\n",
       "      <td>0.0</td>\n",
       "      <td>4000.0</td>\n",
       "      <td>1000.0</td>\n",
       "      <td>-4000.0</td>\n",
       "      <td>4.608351e+05</td>\n",
       "      <td>1.050354e+06</td>\n",
       "    </tr>\n",
       "    <tr>\n",
       "      <th>2011-02-07</th>\n",
       "      <td>0.0</td>\n",
       "      <td>4000.0</td>\n",
       "      <td>1000.0</td>\n",
       "      <td>-4000.0</td>\n",
       "      <td>4.608351e+05</td>\n",
       "      <td>1.052649e+06</td>\n",
       "    </tr>\n",
       "    <tr>\n",
       "      <th>2011-02-08</th>\n",
       "      <td>0.0</td>\n",
       "      <td>4000.0</td>\n",
       "      <td>1000.0</td>\n",
       "      <td>-4000.0</td>\n",
       "      <td>4.608351e+05</td>\n",
       "      <td>1.062875e+06</td>\n",
       "    </tr>\n",
       "    <tr>\n",
       "      <th>2011-02-09</th>\n",
       "      <td>0.0</td>\n",
       "      <td>4000.0</td>\n",
       "      <td>1000.0</td>\n",
       "      <td>-4000.0</td>\n",
       "      <td>4.608351e+05</td>\n",
       "      <td>1.058560e+06</td>\n",
       "    </tr>\n",
       "    <tr>\n",
       "      <th>2011-02-10</th>\n",
       "      <td>0.0</td>\n",
       "      <td>4000.0</td>\n",
       "      <td>1000.0</td>\n",
       "      <td>0.0</td>\n",
       "      <td>1.816469e+05</td>\n",
       "      <td>1.054421e+06</td>\n",
       "    </tr>\n",
       "    <tr>\n",
       "      <th>2011-02-11</th>\n",
       "      <td>0.0</td>\n",
       "      <td>4000.0</td>\n",
       "      <td>1000.0</td>\n",
       "      <td>0.0</td>\n",
       "      <td>1.816469e+05</td>\n",
       "      <td>1.057621e+06</td>\n",
       "    </tr>\n",
       "    <tr>\n",
       "      <th>2011-02-14</th>\n",
       "      <td>0.0</td>\n",
       "      <td>4000.0</td>\n",
       "      <td>1000.0</td>\n",
       "      <td>0.0</td>\n",
       "      <td>1.816469e+05</td>\n",
       "      <td>1.057275e+06</td>\n",
       "    </tr>\n",
       "    <tr>\n",
       "      <th>2011-02-15</th>\n",
       "      <td>0.0</td>\n",
       "      <td>4000.0</td>\n",
       "      <td>1000.0</td>\n",
       "      <td>0.0</td>\n",
       "      <td>1.816469e+05</td>\n",
       "      <td>1.053969e+06</td>\n",
       "    </tr>\n",
       "    <tr>\n",
       "      <th>2011-02-16</th>\n",
       "      <td>0.0</td>\n",
       "      <td>4000.0</td>\n",
       "      <td>1000.0</td>\n",
       "      <td>0.0</td>\n",
       "      <td>1.816469e+05</td>\n",
       "      <td>1.055932e+06</td>\n",
       "    </tr>\n",
       "    <tr>\n",
       "      <th>2011-02-17</th>\n",
       "      <td>0.0</td>\n",
       "      <td>4000.0</td>\n",
       "      <td>1000.0</td>\n",
       "      <td>0.0</td>\n",
       "      <td>1.816469e+05</td>\n",
       "      <td>1.059343e+06</td>\n",
       "    </tr>\n",
       "    <tr>\n",
       "      <th>2011-02-18</th>\n",
       "      <td>0.0</td>\n",
       "      <td>4000.0</td>\n",
       "      <td>1000.0</td>\n",
       "      <td>0.0</td>\n",
       "      <td>1.816469e+05</td>\n",
       "      <td>1.063816e+06</td>\n",
       "    </tr>\n",
       "    <tr>\n",
       "      <th>2011-02-22</th>\n",
       "      <td>0.0</td>\n",
       "      <td>4000.0</td>\n",
       "      <td>1000.0</td>\n",
       "      <td>0.0</td>\n",
       "      <td>1.816469e+05</td>\n",
       "      <td>1.043942e+06</td>\n",
       "    </tr>\n",
       "    <tr>\n",
       "      <th>...</th>\n",
       "      <td>...</td>\n",
       "      <td>...</td>\n",
       "      <td>...</td>\n",
       "      <td>...</td>\n",
       "      <td>...</td>\n",
       "      <td>...</td>\n",
       "    </tr>\n",
       "    <tr>\n",
       "      <th>2011-11-08</th>\n",
       "      <td>1200.0</td>\n",
       "      <td>0.0</td>\n",
       "      <td>0.0</td>\n",
       "      <td>0.0</td>\n",
       "      <td>9.926496e+05</td>\n",
       "      <td>1.055807e+06</td>\n",
       "    </tr>\n",
       "    <tr>\n",
       "      <th>2011-11-09</th>\n",
       "      <td>1200.0</td>\n",
       "      <td>0.0</td>\n",
       "      <td>0.0</td>\n",
       "      <td>0.0</td>\n",
       "      <td>9.926496e+05</td>\n",
       "      <td>1.054104e+06</td>\n",
       "    </tr>\n",
       "    <tr>\n",
       "      <th>2011-11-10</th>\n",
       "      <td>1200.0</td>\n",
       "      <td>0.0</td>\n",
       "      <td>0.0</td>\n",
       "      <td>0.0</td>\n",
       "      <td>9.926496e+05</td>\n",
       "      <td>1.052540e+06</td>\n",
       "    </tr>\n",
       "    <tr>\n",
       "      <th>2011-11-11</th>\n",
       "      <td>1200.0</td>\n",
       "      <td>0.0</td>\n",
       "      <td>0.0</td>\n",
       "      <td>0.0</td>\n",
       "      <td>9.926496e+05</td>\n",
       "      <td>1.052447e+06</td>\n",
       "    </tr>\n",
       "    <tr>\n",
       "      <th>2011-11-14</th>\n",
       "      <td>1200.0</td>\n",
       "      <td>0.0</td>\n",
       "      <td>0.0</td>\n",
       "      <td>0.0</td>\n",
       "      <td>9.926496e+05</td>\n",
       "      <td>1.051614e+06</td>\n",
       "    </tr>\n",
       "    <tr>\n",
       "      <th>2011-11-15</th>\n",
       "      <td>1200.0</td>\n",
       "      <td>0.0</td>\n",
       "      <td>0.0</td>\n",
       "      <td>0.0</td>\n",
       "      <td>9.926496e+05</td>\n",
       "      <td>1.053102e+06</td>\n",
       "    </tr>\n",
       "    <tr>\n",
       "      <th>2011-11-16</th>\n",
       "      <td>1200.0</td>\n",
       "      <td>0.0</td>\n",
       "      <td>0.0</td>\n",
       "      <td>0.0</td>\n",
       "      <td>9.926496e+05</td>\n",
       "      <td>1.052470e+06</td>\n",
       "    </tr>\n",
       "    <tr>\n",
       "      <th>2011-11-17</th>\n",
       "      <td>1200.0</td>\n",
       "      <td>0.0</td>\n",
       "      <td>0.0</td>\n",
       "      <td>0.0</td>\n",
       "      <td>9.926496e+05</td>\n",
       "      <td>1.051326e+06</td>\n",
       "    </tr>\n",
       "    <tr>\n",
       "      <th>2011-11-18</th>\n",
       "      <td>1200.0</td>\n",
       "      <td>0.0</td>\n",
       "      <td>0.0</td>\n",
       "      <td>0.0</td>\n",
       "      <td>9.926496e+05</td>\n",
       "      <td>1.050942e+06</td>\n",
       "    </tr>\n",
       "    <tr>\n",
       "      <th>2011-11-21</th>\n",
       "      <td>1200.0</td>\n",
       "      <td>0.0</td>\n",
       "      <td>0.0</td>\n",
       "      <td>0.0</td>\n",
       "      <td>9.926496e+05</td>\n",
       "      <td>1.050020e+06</td>\n",
       "    </tr>\n",
       "    <tr>\n",
       "      <th>2011-11-22</th>\n",
       "      <td>1200.0</td>\n",
       "      <td>0.0</td>\n",
       "      <td>0.0</td>\n",
       "      <td>0.0</td>\n",
       "      <td>9.926496e+05</td>\n",
       "      <td>1.051186e+06</td>\n",
       "    </tr>\n",
       "    <tr>\n",
       "      <th>2011-11-23</th>\n",
       "      <td>1200.0</td>\n",
       "      <td>0.0</td>\n",
       "      <td>0.0</td>\n",
       "      <td>0.0</td>\n",
       "      <td>9.926496e+05</td>\n",
       "      <td>1.049706e+06</td>\n",
       "    </tr>\n",
       "    <tr>\n",
       "      <th>2011-11-25</th>\n",
       "      <td>1200.0</td>\n",
       "      <td>0.0</td>\n",
       "      <td>0.0</td>\n",
       "      <td>0.0</td>\n",
       "      <td>9.926496e+05</td>\n",
       "      <td>1.049174e+06</td>\n",
       "    </tr>\n",
       "    <tr>\n",
       "      <th>2011-11-28</th>\n",
       "      <td>1200.0</td>\n",
       "      <td>0.0</td>\n",
       "      <td>0.0</td>\n",
       "      <td>0.0</td>\n",
       "      <td>9.926496e+05</td>\n",
       "      <td>1.051126e+06</td>\n",
       "    </tr>\n",
       "    <tr>\n",
       "      <th>2011-11-29</th>\n",
       "      <td>1200.0</td>\n",
       "      <td>0.0</td>\n",
       "      <td>0.0</td>\n",
       "      <td>0.0</td>\n",
       "      <td>9.926496e+05</td>\n",
       "      <td>1.050672e+06</td>\n",
       "    </tr>\n",
       "    <tr>\n",
       "      <th>2011-11-30</th>\n",
       "      <td>1200.0</td>\n",
       "      <td>0.0</td>\n",
       "      <td>0.0</td>\n",
       "      <td>0.0</td>\n",
       "      <td>9.926496e+05</td>\n",
       "      <td>1.052071e+06</td>\n",
       "    </tr>\n",
       "    <tr>\n",
       "      <th>2011-12-01</th>\n",
       "      <td>1200.0</td>\n",
       "      <td>0.0</td>\n",
       "      <td>0.0</td>\n",
       "      <td>0.0</td>\n",
       "      <td>9.926496e+05</td>\n",
       "      <td>1.052962e+06</td>\n",
       "    </tr>\n",
       "    <tr>\n",
       "      <th>2011-12-02</th>\n",
       "      <td>1200.0</td>\n",
       "      <td>0.0</td>\n",
       "      <td>0.0</td>\n",
       "      <td>0.0</td>\n",
       "      <td>9.926496e+05</td>\n",
       "      <td>1.053237e+06</td>\n",
       "    </tr>\n",
       "    <tr>\n",
       "      <th>2011-12-05</th>\n",
       "      <td>1200.0</td>\n",
       "      <td>0.0</td>\n",
       "      <td>0.0</td>\n",
       "      <td>0.0</td>\n",
       "      <td>9.926496e+05</td>\n",
       "      <td>1.053751e+06</td>\n",
       "    </tr>\n",
       "    <tr>\n",
       "      <th>2011-12-06</th>\n",
       "      <td>1200.0</td>\n",
       "      <td>0.0</td>\n",
       "      <td>0.0</td>\n",
       "      <td>0.0</td>\n",
       "      <td>9.926496e+05</td>\n",
       "      <td>1.053431e+06</td>\n",
       "    </tr>\n",
       "    <tr>\n",
       "      <th>2011-12-07</th>\n",
       "      <td>1200.0</td>\n",
       "      <td>0.0</td>\n",
       "      <td>0.0</td>\n",
       "      <td>0.0</td>\n",
       "      <td>9.926496e+05</td>\n",
       "      <td>1.053142e+06</td>\n",
       "    </tr>\n",
       "    <tr>\n",
       "      <th>2011-12-08</th>\n",
       "      <td>1200.0</td>\n",
       "      <td>0.0</td>\n",
       "      <td>0.0</td>\n",
       "      <td>0.0</td>\n",
       "      <td>9.926496e+05</td>\n",
       "      <td>1.053386e+06</td>\n",
       "    </tr>\n",
       "    <tr>\n",
       "      <th>2011-12-09</th>\n",
       "      <td>1200.0</td>\n",
       "      <td>0.0</td>\n",
       "      <td>0.0</td>\n",
       "      <td>0.0</td>\n",
       "      <td>9.926496e+05</td>\n",
       "      <td>1.053846e+06</td>\n",
       "    </tr>\n",
       "    <tr>\n",
       "      <th>2011-12-12</th>\n",
       "      <td>1200.0</td>\n",
       "      <td>0.0</td>\n",
       "      <td>0.0</td>\n",
       "      <td>0.0</td>\n",
       "      <td>9.926496e+05</td>\n",
       "      <td>1.053570e+06</td>\n",
       "    </tr>\n",
       "    <tr>\n",
       "      <th>2011-12-13</th>\n",
       "      <td>1200.0</td>\n",
       "      <td>0.0</td>\n",
       "      <td>0.0</td>\n",
       "      <td>0.0</td>\n",
       "      <td>9.926496e+05</td>\n",
       "      <td>1.053098e+06</td>\n",
       "    </tr>\n",
       "    <tr>\n",
       "      <th>2011-12-14</th>\n",
       "      <td>1200.0</td>\n",
       "      <td>0.0</td>\n",
       "      <td>0.0</td>\n",
       "      <td>0.0</td>\n",
       "      <td>9.926496e+05</td>\n",
       "      <td>1.051758e+06</td>\n",
       "    </tr>\n",
       "    <tr>\n",
       "      <th>2011-12-15</th>\n",
       "      <td>1200.0</td>\n",
       "      <td>0.0</td>\n",
       "      <td>0.0</td>\n",
       "      <td>0.0</td>\n",
       "      <td>9.926496e+05</td>\n",
       "      <td>1.051564e+06</td>\n",
       "    </tr>\n",
       "    <tr>\n",
       "      <th>2011-12-16</th>\n",
       "      <td>1200.0</td>\n",
       "      <td>0.0</td>\n",
       "      <td>0.0</td>\n",
       "      <td>0.0</td>\n",
       "      <td>9.926496e+05</td>\n",
       "      <td>1.051887e+06</td>\n",
       "    </tr>\n",
       "    <tr>\n",
       "      <th>2011-12-19</th>\n",
       "      <td>1200.0</td>\n",
       "      <td>0.0</td>\n",
       "      <td>0.0</td>\n",
       "      <td>0.0</td>\n",
       "      <td>9.926496e+05</td>\n",
       "      <td>1.052072e+06</td>\n",
       "    </tr>\n",
       "    <tr>\n",
       "      <th>2011-12-20</th>\n",
       "      <td>0.0</td>\n",
       "      <td>0.0</td>\n",
       "      <td>0.0</td>\n",
       "      <td>0.0</td>\n",
       "      <td>1.054209e+06</td>\n",
       "      <td>1.054209e+06</td>\n",
       "    </tr>\n",
       "  </tbody>\n",
       "</table>\n",
       "<p>240 rows × 6 columns</p>\n",
       "</div>"
      ],
      "text/plain": [
       "Symbol        AAPL     IBM    GOOG     XOM          Cash         Value\n",
       "Date                                                                  \n",
       "2011-01-10  1500.0     0.0     0.0     0.0  9.334485e+05  1.000000e+06\n",
       "2011-01-11  1500.0     0.0     0.0     0.0  9.334485e+05  9.998426e+05\n",
       "2011-01-12  1500.0     0.0     0.0     0.0  9.334485e+05  1.000383e+06\n",
       "2011-01-13     0.0  4000.0     0.0     0.0  4.903521e+05  1.000628e+06\n",
       "2011-01-14     0.0  4000.0     0.0     0.0  4.903521e+05  1.004674e+06\n",
       "2011-01-18     0.0  4000.0     0.0     0.0  4.903521e+05  1.006902e+06\n",
       "2011-01-19     0.0  4000.0     0.0     0.0  4.903521e+05  1.024184e+06\n",
       "2011-01-20     0.0  4000.0     0.0     0.0  4.903521e+05  1.024561e+06\n",
       "2011-01-21     0.0  4000.0     0.0     0.0  4.903521e+05  1.023532e+06\n",
       "2011-01-24     0.0  4000.0     0.0     0.0  4.903521e+05  1.037693e+06\n",
       "2011-01-25     0.0  4000.0     0.0     0.0  4.903521e+05  1.043899e+06\n",
       "2011-01-26     0.0  4000.0  1000.0     0.0  1.824095e+05  1.042528e+06\n",
       "2011-01-27     0.0  4000.0  1000.0     0.0  1.824095e+05  1.042776e+06\n",
       "2011-01-28     0.0  4000.0  1000.0     0.0  1.824095e+05  1.028506e+06\n",
       "2011-01-31     0.0  4000.0  1000.0     0.0  1.824095e+05  1.037757e+06\n",
       "2011-02-01     0.0  4000.0  1000.0     0.0  1.824095e+05  1.048441e+06\n",
       "2011-02-02     0.0  4000.0  1000.0 -4000.0  4.608351e+05  1.048029e+06\n",
       "2011-02-03     0.0  4000.0  1000.0 -4000.0  4.608351e+05  1.047794e+06\n",
       "2011-02-04     0.0  4000.0  1000.0 -4000.0  4.608351e+05  1.050354e+06\n",
       "2011-02-07     0.0  4000.0  1000.0 -4000.0  4.608351e+05  1.052649e+06\n",
       "2011-02-08     0.0  4000.0  1000.0 -4000.0  4.608351e+05  1.062875e+06\n",
       "2011-02-09     0.0  4000.0  1000.0 -4000.0  4.608351e+05  1.058560e+06\n",
       "2011-02-10     0.0  4000.0  1000.0     0.0  1.816469e+05  1.054421e+06\n",
       "2011-02-11     0.0  4000.0  1000.0     0.0  1.816469e+05  1.057621e+06\n",
       "2011-02-14     0.0  4000.0  1000.0     0.0  1.816469e+05  1.057275e+06\n",
       "2011-02-15     0.0  4000.0  1000.0     0.0  1.816469e+05  1.053969e+06\n",
       "2011-02-16     0.0  4000.0  1000.0     0.0  1.816469e+05  1.055932e+06\n",
       "2011-02-17     0.0  4000.0  1000.0     0.0  1.816469e+05  1.059343e+06\n",
       "2011-02-18     0.0  4000.0  1000.0     0.0  1.816469e+05  1.063816e+06\n",
       "2011-02-22     0.0  4000.0  1000.0     0.0  1.816469e+05  1.043942e+06\n",
       "...            ...     ...     ...     ...           ...           ...\n",
       "2011-11-08  1200.0     0.0     0.0     0.0  9.926496e+05  1.055807e+06\n",
       "2011-11-09  1200.0     0.0     0.0     0.0  9.926496e+05  1.054104e+06\n",
       "2011-11-10  1200.0     0.0     0.0     0.0  9.926496e+05  1.052540e+06\n",
       "2011-11-11  1200.0     0.0     0.0     0.0  9.926496e+05  1.052447e+06\n",
       "2011-11-14  1200.0     0.0     0.0     0.0  9.926496e+05  1.051614e+06\n",
       "2011-11-15  1200.0     0.0     0.0     0.0  9.926496e+05  1.053102e+06\n",
       "2011-11-16  1200.0     0.0     0.0     0.0  9.926496e+05  1.052470e+06\n",
       "2011-11-17  1200.0     0.0     0.0     0.0  9.926496e+05  1.051326e+06\n",
       "2011-11-18  1200.0     0.0     0.0     0.0  9.926496e+05  1.050942e+06\n",
       "2011-11-21  1200.0     0.0     0.0     0.0  9.926496e+05  1.050020e+06\n",
       "2011-11-22  1200.0     0.0     0.0     0.0  9.926496e+05  1.051186e+06\n",
       "2011-11-23  1200.0     0.0     0.0     0.0  9.926496e+05  1.049706e+06\n",
       "2011-11-25  1200.0     0.0     0.0     0.0  9.926496e+05  1.049174e+06\n",
       "2011-11-28  1200.0     0.0     0.0     0.0  9.926496e+05  1.051126e+06\n",
       "2011-11-29  1200.0     0.0     0.0     0.0  9.926496e+05  1.050672e+06\n",
       "2011-11-30  1200.0     0.0     0.0     0.0  9.926496e+05  1.052071e+06\n",
       "2011-12-01  1200.0     0.0     0.0     0.0  9.926496e+05  1.052962e+06\n",
       "2011-12-02  1200.0     0.0     0.0     0.0  9.926496e+05  1.053237e+06\n",
       "2011-12-05  1200.0     0.0     0.0     0.0  9.926496e+05  1.053751e+06\n",
       "2011-12-06  1200.0     0.0     0.0     0.0  9.926496e+05  1.053431e+06\n",
       "2011-12-07  1200.0     0.0     0.0     0.0  9.926496e+05  1.053142e+06\n",
       "2011-12-08  1200.0     0.0     0.0     0.0  9.926496e+05  1.053386e+06\n",
       "2011-12-09  1200.0     0.0     0.0     0.0  9.926496e+05  1.053846e+06\n",
       "2011-12-12  1200.0     0.0     0.0     0.0  9.926496e+05  1.053570e+06\n",
       "2011-12-13  1200.0     0.0     0.0     0.0  9.926496e+05  1.053098e+06\n",
       "2011-12-14  1200.0     0.0     0.0     0.0  9.926496e+05  1.051758e+06\n",
       "2011-12-15  1200.0     0.0     0.0     0.0  9.926496e+05  1.051564e+06\n",
       "2011-12-16  1200.0     0.0     0.0     0.0  9.926496e+05  1.051887e+06\n",
       "2011-12-19  1200.0     0.0     0.0     0.0  9.926496e+05  1.052072e+06\n",
       "2011-12-20     0.0     0.0     0.0     0.0  1.054209e+06  1.054209e+06\n",
       "\n",
       "[240 rows x 6 columns]"
      ]
     },
     "execution_count": 496,
     "metadata": {},
     "output_type": "execute_result"
    }
   ],
   "source": [
    "marketsim(orders, 1000000)"
   ]
  },
  {
   "cell_type": "code",
   "execution_count": 404,
   "metadata": {
    "collapsed": false
   },
   "outputs": [
    {
     "data": {
      "text/plain": [
       "49.31305"
      ]
     },
     "execution_count": 404,
     "metadata": {},
     "output_type": "execute_result"
    }
   ],
   "source": [
    "xx = port_df['MSFT']\n",
    "xx['Cash'] = 'Cash'\n",
    "t = xx.index[0] #+ dt.timedelta(days=10000)\n",
    "port_df.ix[t, 'MSFT']"
   ]
  },
  {
   "cell_type": "code",
   "execution_count": 579,
   "metadata": {
    "collapsed": false
   },
   "outputs": [],
   "source": [
    "port_df = get_datas_online(['AAPL', 'MSFT', 'GOOG', 'ZEM.TO', 'AMZN'], start_date=dt.datetime(2016,5,1), add_ref=False)"
   ]
  },
  {
   "cell_type": "code",
   "execution_count": 546,
   "metadata": {
    "collapsed": false,
    "scrolled": true
   },
   "outputs": [
    {
     "data": {
      "text/html": [
       "<div>\n",
       "<table border=\"1\" class=\"dataframe\">\n",
       "  <thead>\n",
       "    <tr style=\"text-align: right;\">\n",
       "      <th></th>\n",
       "      <th>AAPL</th>\n",
       "      <th>ZEM.TO</th>\n",
       "    </tr>\n",
       "    <tr>\n",
       "      <th>Date</th>\n",
       "      <th></th>\n",
       "      <th></th>\n",
       "    </tr>\n",
       "  </thead>\n",
       "  <tbody>\n",
       "    <tr>\n",
       "      <th>2016-05-02</th>\n",
       "      <td>91.701408</td>\n",
       "      <td>14.645903</td>\n",
       "    </tr>\n",
       "    <tr>\n",
       "      <th>2016-05-03</th>\n",
       "      <td>93.209527</td>\n",
       "      <td>14.547740</td>\n",
       "    </tr>\n",
       "    <tr>\n",
       "      <th>2016-05-04</th>\n",
       "      <td>92.240024</td>\n",
       "      <td>14.429945</td>\n",
       "    </tr>\n",
       "    <tr>\n",
       "      <th>2016-05-05</th>\n",
       "      <td>91.865625</td>\n",
       "      <td>14.429945</td>\n",
       "    </tr>\n",
       "    <tr>\n",
       "      <th>2016-05-06</th>\n",
       "      <td>91.353293</td>\n",
       "      <td>14.498659</td>\n",
       "    </tr>\n",
       "  </tbody>\n",
       "</table>\n",
       "</div>"
      ],
      "text/plain": [
       "                 AAPL     ZEM.TO\n",
       "Date                            \n",
       "2016-05-02  91.701408  14.645903\n",
       "2016-05-03  93.209527  14.547740\n",
       "2016-05-04  92.240024  14.429945\n",
       "2016-05-05  91.865625  14.429945\n",
       "2016-05-06  91.353293  14.498659"
      ]
     },
     "execution_count": 546,
     "metadata": {},
     "output_type": "execute_result"
    }
   ],
   "source": [
    "port_df.head()"
   ]
  },
  {
   "cell_type": "raw",
   "metadata": {},
   "source": [
    "port_df.plot()"
   ]
  },
  {
   "cell_type": "code",
   "execution_count": 531,
   "metadata": {
    "collapsed": false
   },
   "outputs": [],
   "source": [
    "zem = get_data_online('ZEM.TO', '2016-05-01')"
   ]
  },
  {
   "cell_type": "code",
   "execution_count": 537,
   "metadata": {
    "collapsed": false
   },
   "outputs": [],
   "source": [
    "zem = fill_na(zem)"
   ]
  },
  {
   "cell_type": "code",
   "execution_count": 539,
   "metadata": {
    "collapsed": false
   },
   "outputs": [
    {
     "data": {
      "text/plain": [
       "<matplotlib.axes._subplots.AxesSubplot at 0x118b8aa58>"
      ]
     },
     "execution_count": 539,
     "metadata": {},
     "output_type": "execute_result"
    },
    {
     "data": {
      "image/png": "[encoded data removed]",
      "text/plain": [
       "<matplotlib.figure.Figure at 0x118b93c18>"
      ]
     },
     "metadata": {},
     "output_type": "display_data"
    }
   ],
   "source": [
    "compute_cumulative_return(fill_na(port_df.join(zem))).plot()"
   ]
  },
  {
   "cell_type": "code",
   "execution_count": 544,
   "metadata": {
    "collapsed": false
   },
   "outputs": [
    {
     "data": {
      "text/plain": [
       "MSFT      2.121998\n",
       "GOOG      1.909082\n",
       "AAPL      2.728815\n",
       "ZEM.TO    2.123830\n",
       "dtype: float64"
      ]
     },
     "execution_count": 544,
     "metadata": {},
     "output_type": "execute_result"
    }
   ],
   "source": [
    "compute_sharp_ratio(compute_daily_return(port_df.join(zem)))"
   ]
  },
  {
   "cell_type": "code",
   "execution_count": 367,
   "metadata": {
    "collapsed": false
   },
   "outputs": [
    {
     "data": {
      "text/plain": [
       "<matplotlib.axes._subplots.AxesSubplot at 0x1152e70b8>"
      ]
     },
     "execution_count": 367,
     "metadata": {},
     "output_type": "execute_result"
    },
    {
     "data": {
      "image/png": "[encoded data removed]",
      "text/plain": [
       "<matplotlib.figure.Figure at 0x1152ae4a8>"
      ]
     },
     "metadata": {},
     "output_type": "display_data"
    }
   ],
   "source": [
    "compute_cumulative_return(port_df).plot()"
   ]
  },
  {
   "cell_type": "code",
   "execution_count": 569,
   "metadata": {
    "collapsed": false
   },
   "outputs": [
    {
     "data": {
      "text/plain": [
       "1.2981239280832542"
      ]
     },
     "execution_count": 569,
     "metadata": {},
     "output_type": "execute_result"
    }
   ],
   "source": [
    "compute_portfolio_sr(port_df, [0.4, 0.6, 0.01])"
   ]
  },
  {
   "cell_type": "code",
   "execution_count": 585,
   "metadata": {
    "collapsed": false
   },
   "outputs": [
    {
     "name": "stdout",
     "output_type": "stream",
     "text": [
      "Optimization terminated successfully.    (Exit mode 0)\n",
      "            Current function value: -3.0638337192709075\n",
      "            Iterations: 6\n",
      "            Function evaluations: 47\n",
      "            Gradient evaluations: 6\n"
     ]
    },
    {
     "data": {
      "text/plain": [
       "     fun: -3.0638337192709075\n",
       "     jac: array([-0.00055653,  0.00093976, -0.00042108, -0.00127053,  0.00032517,  0.        ])\n",
       " message: 'Optimization terminated successfully.'\n",
       "    nfev: 47\n",
       "     nit: 6\n",
       "    njev: 6\n",
       "  status: 0\n",
       " success: True\n",
       "       x: array([  5.97483746e-01,   3.40256798e-01,   5.16472716e-04,\n",
       "         3.82939626e-03,   5.79135871e-02])"
      ]
     },
     "execution_count": 585,
     "metadata": {},
     "output_type": "execute_result"
    }
   ],
   "source": [
    "optimize_portfolio(port_df)"
   ]
  },
  {
   "cell_type": "code",
   "execution_count": 348,
   "metadata": {
    "collapsed": false
   },
   "outputs": [
    {
     "data": {
      "text/plain": [
       "3.010266171223217"
      ]
     },
     "execution_count": 348,
     "metadata": {},
     "output_type": "execute_result"
    }
   ],
   "source": [
    "compute_portfolio_sr(port_df, [0.3, 0.7, 0, 0.1])"
   ]
  },
  {
   "cell_type": "code",
   "execution_count": 167,
   "metadata": {
    "collapsed": false
   },
   "outputs": [
    {
     "name": "stdout",
     "output_type": "stream",
     "text": [
      "[ 0.1  0.1  0.1  0.1]\n"
     ]
    }
   ],
   "source": [
    "x_guess = np.float32([0.1]*4)\n",
    "print(x_guess)"
   ]
  },
  {
   "cell_type": "code",
   "execution_count": 164,
   "metadata": {
    "collapsed": false
   },
   "outputs": [
    {
     "data": {
      "text/plain": [
       "poly1d([ 1.,  1.,  1.,  1.])"
      ]
     },
     "execution_count": 164,
     "metadata": {},
     "output_type": "execute_result"
    }
   ],
   "source": [
    "np.poly1d(np.ones(4))"
   ]
  },
  {
   "cell_type": "code",
   "execution_count": 592,
   "metadata": {
    "collapsed": false
   },
   "outputs": [
    {
     "data": {
      "text/html": [
       "<div>\n",
       "<table border=\"1\" class=\"dataframe\">\n",
       "  <thead>\n",
       "    <tr style=\"text-align: right;\">\n",
       "      <th></th>\n",
       "      <th>SPY</th>\n",
       "      <th>AAPL</th>\n",
       "    </tr>\n",
       "    <tr>\n",
       "      <th>Date</th>\n",
       "      <th></th>\n",
       "      <th></th>\n",
       "    </tr>\n",
       "  </thead>\n",
       "  <tbody>\n",
       "    <tr>\n",
       "      <th>2016-05-02</th>\n",
       "      <td>203.761554</td>\n",
       "      <td>91.701408</td>\n",
       "    </tr>\n",
       "    <tr>\n",
       "      <th>2016-05-03</th>\n",
       "      <td>201.988184</td>\n",
       "      <td>93.209527</td>\n",
       "    </tr>\n",
       "    <tr>\n",
       "      <th>2016-05-04</th>\n",
       "      <td>200.861446</td>\n",
       "      <td>92.240024</td>\n",
       "    </tr>\n",
       "    <tr>\n",
       "      <th>2016-05-05</th>\n",
       "      <td>200.822262</td>\n",
       "      <td>91.865625</td>\n",
       "    </tr>\n",
       "    <tr>\n",
       "      <th>2016-05-06</th>\n",
       "      <td>201.557085</td>\n",
       "      <td>91.353293</td>\n",
       "    </tr>\n",
       "  </tbody>\n",
       "</table>\n",
       "</div>"
      ],
      "text/plain": [
       "                   SPY       AAPL\n",
       "Date                             \n",
       "2016-05-02  203.761554  91.701408\n",
       "2016-05-03  201.988184  93.209527\n",
       "2016-05-04  200.861446  92.240024\n",
       "2016-05-05  200.822262  91.865625\n",
       "2016-05-06  201.557085  91.353293"
      ]
     },
     "execution_count": 592,
     "metadata": {},
     "output_type": "execute_result"
    }
   ],
   "source": [
    "dfs = get_datas_online(['AAPL'], '2016-05-01')\n",
    "dfs.head()"
   ]
  },
  {
   "cell_type": "code",
   "execution_count": 597,
   "metadata": {
    "collapsed": false
   },
   "outputs": [
    {
     "data": {
      "text/plain": [
       "array([   1.3694612 , -184.77269215])"
      ]
     },
     "execution_count": 597,
     "metadata": {},
     "output_type": "execute_result"
    },
    {
     "data": {
      "image/png": "[encoded data removed]",
      "text/plain": [
       "<matplotlib.figure.Figure at 0x119624eb8>"
      ]
     },
     "metadata": {},
     "output_type": "display_data"
    }
   ],
   "source": [
    "ax = plot_scatter(dfs, 'SPY', 'AAPL')\n",
    "fit_line(dfs['SPY'], dfs['AAPL'], 1)"
   ]
  },
  {
   "cell_type": "code",
   "execution_count": 595,
   "metadata": {
    "collapsed": false
   },
   "outputs": [
    {
     "data": {
      "text/plain": [
       "0.94472363952267457"
      ]
     },
     "execution_count": 595,
     "metadata": {},
     "output_type": "execute_result"
    }
   ],
   "source": [
    "compute_correlation(dfs).iloc[0,1]"
   ]
  },
  {
   "cell_type": "code",
   "execution_count": 82,
   "metadata": {
    "collapsed": true
   },
   "outputs": [],
   "source": [
    "dfs.to_csv('./data/msft_spy.csv')"
   ]
  },
  {
   "cell_type": "code",
   "execution_count": null,
   "metadata": {
    "collapsed": true
   },
   "outputs": [],
   "source": [
    "dfs = pd.read_csv('./data/msft_spy.csv', index_col='Date', parse_dates=True)"
   ]
  },
  {
   "cell_type": "code",
   "execution_count": 119,
   "metadata": {
    "collapsed": false
   },
   "outputs": [
    {
     "data": {
      "image/png": "[encoded data removed]",
      "text/plain": [
       "<matplotlib.figure.Figure at 0x10a757b70>"
      ]
     },
     "metadata": {},
     "output_type": "display_data"
    }
   ],
   "source": [
    "port = compute_portfolio_value(dfs, [0.4, 0.6], 1000)\n",
    "ax = plot_data(port)\n",
    "rm = compute_rolling_mean(port, 20)\n",
    "append_to_plot(rm, ax, label='rolling mean')"
   ]
  },
  {
   "cell_type": "code",
   "execution_count": 76,
   "metadata": {
    "collapsed": false
   },
   "outputs": [
    {
     "data": {
      "text/html": [
       "<div>\n",
       "<table border=\"1\" class=\"dataframe\">\n",
       "  <thead>\n",
       "    <tr style=\"text-align: right;\">\n",
       "      <th></th>\n",
       "      <th>Adj Close</th>\n",
       "    </tr>\n",
       "  </thead>\n",
       "  <tbody>\n",
       "    <tr>\n",
       "      <th>2016-05-03</th>\n",
       "      <td>201.988184</td>\n",
       "    </tr>\n",
       "    <tr>\n",
       "      <th>2016-05-04</th>\n",
       "      <td>200.861446</td>\n",
       "    </tr>\n",
       "    <tr>\n",
       "      <th>2016-05-05</th>\n",
       "      <td>200.822262</td>\n",
       "    </tr>\n",
       "    <tr>\n",
       "      <th>2016-05-06</th>\n",
       "      <td>201.557085</td>\n",
       "    </tr>\n",
       "    <tr>\n",
       "      <th>2016-05-09</th>\n",
       "      <td>201.723643</td>\n",
       "    </tr>\n",
       "  </tbody>\n",
       "</table>\n",
       "</div>"
      ],
      "text/plain": [
       "             Adj Close\n",
       "2016-05-03  201.988184\n",
       "2016-05-04  200.861446\n",
       "2016-05-05  200.822262\n",
       "2016-05-06  201.557085\n",
       "2016-05-09  201.723643"
      ]
     },
     "execution_count": 76,
     "metadata": {},
     "output_type": "execute_result"
    }
   ],
   "source": [
    "df = read_csv_data('./data/SPY.csv', 'spy')\n",
    "df.head()"
   ]
  },
  {
   "cell_type": "code",
   "execution_count": 60,
   "metadata": {
    "collapsed": false
   },
   "outputs": [
    {
     "data": {
      "text/html": [
       "<div>\n",
       "<table border=\"1\" class=\"dataframe\">\n",
       "  <thead>\n",
       "    <tr style=\"text-align: right;\">\n",
       "      <th></th>\n",
       "      <th>Adj Close</th>\n",
       "    </tr>\n",
       "  </thead>\n",
       "  <tbody>\n",
       "    <tr>\n",
       "      <th>2016-05-01</th>\n",
       "      <td>NaN</td>\n",
       "    </tr>\n",
       "    <tr>\n",
       "      <th>2016-05-02</th>\n",
       "      <td>NaN</td>\n",
       "    </tr>\n",
       "    <tr>\n",
       "      <th>2016-05-03</th>\n",
       "      <td>201.988184</td>\n",
       "    </tr>\n",
       "    <tr>\n",
       "      <th>2016-05-04</th>\n",
       "      <td>200.861446</td>\n",
       "    </tr>\n",
       "    <tr>\n",
       "      <th>2016-05-05</th>\n",
       "      <td>200.822262</td>\n",
       "    </tr>\n",
       "  </tbody>\n",
       "</table>\n",
       "</div>"
      ],
      "text/plain": [
       "             Adj Close\n",
       "2016-05-01         NaN\n",
       "2016-05-02         NaN\n",
       "2016-05-03  201.988184\n",
       "2016-05-04  200.861446\n",
       "2016-05-05  200.822262"
      ]
     },
     "execution_count": 60,
     "metadata": {},
     "output_type": "execute_result"
    }
   ],
   "source": [
    "df2 = filter_dates(df, dt.datetime(2016,5,1), dt.datetime(2017,5,1))\n",
    "df2.head()"
   ]
  },
  {
   "cell_type": "code",
   "execution_count": 81,
   "metadata": {
    "collapsed": false
   },
   "outputs": [
    {
     "data": {
      "text/html": [
       "<div>\n",
       "<table border=\"1\" class=\"dataframe\">\n",
       "  <thead>\n",
       "    <tr style=\"text-align: right;\">\n",
       "      <th></th>\n",
       "      <th>Date</th>\n",
       "      <th>Open</th>\n",
       "      <th>High</th>\n",
       "      <th>Low</th>\n",
       "      <th>Close</th>\n",
       "      <th>Volume</th>\n",
       "      <th>Adj Close</th>\n",
       "    </tr>\n",
       "  </thead>\n",
       "  <tbody>\n",
       "    <tr>\n",
       "      <th>0</th>\n",
       "      <td>2017-05-02</td>\n",
       "      <td>238.839996</td>\n",
       "      <td>238.979996</td>\n",
       "      <td>238.300003</td>\n",
       "      <td>238.770004</td>\n",
       "      <td>55117300</td>\n",
       "      <td>238.770004</td>\n",
       "    </tr>\n",
       "    <tr>\n",
       "      <th>1</th>\n",
       "      <td>2017-05-01</td>\n",
       "      <td>238.679993</td>\n",
       "      <td>239.169998</td>\n",
       "      <td>238.199997</td>\n",
       "      <td>238.679993</td>\n",
       "      <td>50959200</td>\n",
       "      <td>238.679993</td>\n",
       "    </tr>\n",
       "    <tr>\n",
       "      <th>2</th>\n",
       "      <td>2017-04-28</td>\n",
       "      <td>238.899994</td>\n",
       "      <td>238.929993</td>\n",
       "      <td>237.929993</td>\n",
       "      <td>238.080002</td>\n",
       "      <td>53247400</td>\n",
       "      <td>238.080002</td>\n",
       "    </tr>\n",
       "    <tr>\n",
       "      <th>3</th>\n",
       "      <td>2017-04-27</td>\n",
       "      <td>238.770004</td>\n",
       "      <td>238.949997</td>\n",
       "      <td>237.979996</td>\n",
       "      <td>238.600006</td>\n",
       "      <td>52840500</td>\n",
       "      <td>238.600006</td>\n",
       "    </tr>\n",
       "    <tr>\n",
       "      <th>4</th>\n",
       "      <td>2017-04-26</td>\n",
       "      <td>238.509995</td>\n",
       "      <td>239.529999</td>\n",
       "      <td>238.350006</td>\n",
       "      <td>238.399994</td>\n",
       "      <td>82714900</td>\n",
       "      <td>238.399994</td>\n",
       "    </tr>\n",
       "  </tbody>\n",
       "</table>\n",
       "</div>"
      ],
      "text/plain": [
       "         Date        Open        High         Low       Close    Volume  \\\n",
       "0  2017-05-02  238.839996  238.979996  238.300003  238.770004  55117300   \n",
       "1  2017-05-01  238.679993  239.169998  238.199997  238.679993  50959200   \n",
       "2  2017-04-28  238.899994  238.929993  237.929993  238.080002  53247400   \n",
       "3  2017-04-27  238.770004  238.949997  237.979996  238.600006  52840500   \n",
       "4  2017-04-26  238.509995  239.529999  238.350006  238.399994  82714900   \n",
       "\n",
       "    Adj Close  \n",
       "0  238.770004  \n",
       "1  238.679993  \n",
       "2  238.080002  \n",
       "3  238.600006  \n",
       "4  238.399994  "
      ]
     },
     "execution_count": 81,
     "metadata": {},
     "output_type": "execute_result"
    }
   ],
   "source": [
    "dftest = pd.read_csv('./data/spy.csv')\n",
    "dftest.head()"
   ]
  },
  {
   "cell_type": "code",
   "execution_count": 98,
   "metadata": {
    "collapsed": false
   },
   "outputs": [
    {
     "name": "stdout",
     "output_type": "stream",
     "text": [
      "<code object get_data_yahoo at 0x10fb31930, file \"/Users/herbert/anaconda/lib/python3.5/site-packages/pandas_datareader/data.py\", line 39>\n"
     ]
    }
   ],
   "source": [
    "dir(pdr.get_data_yahoo)\n",
    "print(pdr.get_data_yahoo.__code__)"
   ]
  },
  {
   "cell_type": "code",
   "execution_count": 51,
   "metadata": {
    "collapsed": false
   },
   "outputs": [
    {
     "data": {
      "text/html": [
       "<div>\n",
       "<table border=\"1\" class=\"dataframe\">\n",
       "  <thead>\n",
       "    <tr style=\"text-align: right;\">\n",
       "      <th></th>\n",
       "      <th>MSFT</th>\n",
       "    </tr>\n",
       "    <tr>\n",
       "      <th>Date</th>\n",
       "      <th></th>\n",
       "    </tr>\n",
       "  </thead>\n",
       "  <tbody>\n",
       "    <tr>\n",
       "      <th>2016-05-02</th>\n",
       "      <td>49.313050</td>\n",
       "    </tr>\n",
       "    <tr>\n",
       "      <th>2016-05-03</th>\n",
       "      <td>48.504319</td>\n",
       "    </tr>\n",
       "    <tr>\n",
       "      <th>2016-05-04</th>\n",
       "      <td>48.592012</td>\n",
       "    </tr>\n",
       "    <tr>\n",
       "      <th>2016-05-05</th>\n",
       "      <td>48.660218</td>\n",
       "    </tr>\n",
       "    <tr>\n",
       "      <th>2016-05-06</th>\n",
       "      <td>49.098687</td>\n",
       "    </tr>\n",
       "  </tbody>\n",
       "</table>\n",
       "</div>"
      ],
      "text/plain": [
       "                 MSFT\n",
       "Date                 \n",
       "2016-05-02  49.313050\n",
       "2016-05-03  48.504319\n",
       "2016-05-04  48.592012\n",
       "2016-05-05  48.660218\n",
       "2016-05-06  49.098687"
      ]
     },
     "execution_count": 51,
     "metadata": {},
     "output_type": "execute_result"
    }
   ],
   "source": [
    "df = get_data_online('MSFT', dt.datetime(2016,4,30), dt.datetime(2017,5,1))\n",
    "df.head()"
   ]
  },
  {
   "cell_type": "code",
   "execution_count": 8,
   "metadata": {
    "collapsed": false
   },
   "outputs": [
    {
     "data": {
      "image/png": "[encoded data removed]",
      "text/plain": [
       "<matplotlib.figure.Figure at 0x1153d03c8>"
      ]
     },
     "metadata": {},
     "output_type": "display_data"
    }
   ],
   "source": [
    "plot_price_data(df)"
   ]
  },
  {
   "cell_type": "code",
   "execution_count": 106,
   "metadata": {
    "collapsed": true
   },
   "outputs": [],
   "source": [
    "get_and_save_to_csv('MSFT')"
   ]
  },
  {
   "cell_type": "code",
   "execution_count": 42,
   "metadata": {
    "collapsed": false
   },
   "outputs": [
    {
     "data": {
      "image/png": "[encoded data removed]",
      "text/plain": [
       "<matplotlib.figure.Figure at 0x114e75630>"
      ]
     },
     "metadata": {},
     "output_type": "display_data"
    }
   ],
   "source": [
    "dr = compute_daily_return(df)\n",
    "plot_data(dr)"
   ]
  },
  {
   "cell_type": "code",
   "execution_count": 44,
   "metadata": {
    "collapsed": false
   },
   "outputs": [
    {
     "data": {
      "image/png": "[encoded data removed]",
      "text/plain": [
       "<matplotlib.figure.Figure at 0x115bb8dd8>"
      ]
     },
     "metadata": {},
     "output_type": "display_data"
    }
   ],
   "source": [
    "cr = compute_cumulative_return(df)\n",
    "plot_data(cr)"
   ]
  },
  {
   "cell_type": "code",
   "execution_count": 50,
   "metadata": {
    "collapsed": false
   },
   "outputs": [
    {
     "data": {
      "text/plain": [
       "array([[ 0.        ],\n",
       "       [-0.01639994],\n",
       "       [-0.01462165],\n",
       "       [-0.01323852],\n",
       "       [-0.00434698],\n",
       "       [-0.01066983],\n",
       "       [ 0.00810116],\n",
       "       [ 0.00869393],\n",
       "       [ 0.017783  ],\n",
       "       [ 0.00928673],\n",
       "       [ 0.02410593],\n",
       "       [ 0.00500462],\n",
       "       [ 0.01097383],\n",
       "       [ 0.0012242 ],\n",
       "       [ 0.00719333],\n",
       "       [-0.004546  ],\n",
       "       [ 0.02649358],\n",
       "       [ 0.03703904],\n",
       "       [ 0.03246271],\n",
       "       [ 0.04101847],\n",
       "       [ 0.05454854],\n",
       "       [ 0.05156394],\n",
       "       [ 0.04420201],\n",
       "       [ 0.03047303],\n",
       "       [ 0.03723805],\n",
       "       [ 0.03664109],\n",
       "       [ 0.03544731],\n",
       "       [ 0.02709046],\n",
       "       [ 0.02430488],\n",
       "       [-0.00235729],\n",
       "       [-0.00852537],\n",
       "       [-0.01131102],\n",
       "       [ 0.00261699],\n",
       "       [-0.00255624],\n",
       "       [-0.00375008],\n",
       "       [ 0.01853469],\n",
       "       [ 0.01455532],\n",
       "       [ 0.03286065],\n",
       "       [-0.00852537],\n",
       "       [-0.03638138],\n",
       "       [-0.0162853 ],\n",
       "       [ 0.0056016 ],\n",
       "       [ 0.01813674],\n",
       "       [ 0.01793781],\n",
       "       [ 0.01813674],\n",
       "       [ 0.02231519],\n",
       "       [ 0.02231519],\n",
       "       [ 0.04062053],\n",
       "       [ 0.04639072],\n",
       "       [ 0.05872693],\n",
       "       [ 0.06469606],\n",
       "       [ 0.06927245],\n",
       "       [ 0.06847656],\n",
       "       [ 0.07364977],\n",
       "       [ 0.05633929],\n",
       "       [ 0.11244922],\n",
       "       [ 0.11026053],\n",
       "       [ 0.12558134],\n",
       "       [ 0.12876488],\n",
       "       [ 0.12936176],\n",
       "       [ 0.1180204 ],\n",
       "       [ 0.11841835],\n",
       "       [ 0.12777003],\n",
       "       [ 0.12578036],\n",
       "       [ 0.12578036],\n",
       "       [ 0.13354023],\n",
       "       [ 0.14189698],\n",
       "       [ 0.15323834],\n",
       "       [ 0.15522812],\n",
       "       [ 0.15801369],\n",
       "       [ 0.1544322 ],\n",
       "       [ 0.16000339],\n",
       "       [ 0.15284039],\n",
       "       [ 0.1564219 ],\n",
       "       [ 0.15001512],\n",
       "       [ 0.15241771],\n",
       "       [ 0.15321849],\n",
       "       [ 0.15361893],\n",
       "       [ 0.15461996],\n",
       "       [ 0.15902464],\n",
       "       [ 0.16022594],\n",
       "       [ 0.16463054],\n",
       "       [ 0.16182759],\n",
       "       [ 0.16322906],\n",
       "       [ 0.15902464],\n",
       "       [ 0.15041554],\n",
       "       [ 0.15301832],\n",
       "       [ 0.15461996],\n",
       "       [ 0.15341874],\n",
       "       [ 0.15441979],\n",
       "       [ 0.14981493],\n",
       "       [ 0.1253891 ],\n",
       "       [ 0.14220686],\n",
       "       [ 0.13179586],\n",
       "       [ 0.12639013],\n",
       "       [ 0.14500981],\n",
       "       [ 0.14621111],\n",
       "       [ 0.13980435],\n",
       "       [ 0.13740184],\n",
       "       [ 0.15642188],\n",
       "       [ 0.15762316],\n",
       "       [ 0.14981493],\n",
       "       [ 0.13920374],\n",
       "       [ 0.16022594],\n",
       "       [ 0.16182759],\n",
       "       [ 0.14921432],\n",
       "       [ 0.15321849],\n",
       "       [ 0.14961468],\n",
       "       [ 0.14601094],\n",
       "       [ 0.15401935],\n",
       "       [ 0.15602152],\n",
       "       [ 0.15722274],\n",
       "       [ 0.16202784],\n",
       "       [ 0.14500981],\n",
       "       [ 0.14340816],\n",
       "       [ 0.1396041 ],\n",
       "       [ 0.14961468],\n",
       "       [ 0.1456105 ],\n",
       "       [ 0.15441979],\n",
       "       [ 0.15181701],\n",
       "       [ 0.14621111],\n",
       "       [ 0.19446209],\n",
       "       [ 0.22129045],\n",
       "       [ 0.22109026],\n",
       "       [ 0.21388263],\n",
       "       [ 0.20327139],\n",
       "       [ 0.19866652],\n",
       "       [ 0.19966755],\n",
       "       [ 0.19726504],\n",
       "       [ 0.18985725],\n",
       "       [ 0.18545255],\n",
       "       [ 0.17544198],\n",
       "       [ 0.20967815],\n",
       "       [ 0.21067926],\n",
       "       [ 0.20467286],\n",
       "       [ 0.17524181],\n",
       "       [ 0.18164857],\n",
       "       [ 0.16362951],\n",
       "       [ 0.1866078 ],\n",
       "       [ 0.20232985],\n",
       "       [ 0.22228467],\n",
       "       [ 0.21643928],\n",
       "       [ 0.22671909],\n",
       "       [ 0.23195973],\n",
       "       [ 0.21744717],\n",
       "       [ 0.22006745],\n",
       "       [ 0.22168   ],\n",
       "       [ 0.23135507],\n",
       "       [ 0.2146252 ],\n",
       "       [ 0.19325945],\n",
       "       [ 0.19426726],\n",
       "       [ 0.213819  ],\n",
       "       [ 0.20837677],\n",
       "       [ 0.23699883],\n",
       "       [ 0.22974251],\n",
       "       [ 0.24909272],\n",
       "       [ 0.25312395],\n",
       "       [ 0.26945066],\n",
       "       [ 0.26340376],\n",
       "       [ 0.26138815],\n",
       "       [ 0.25574429],\n",
       "       [ 0.28235076],\n",
       "       [ 0.28073828],\n",
       "       [ 0.28073828],\n",
       "       [ 0.28093981],\n",
       "       [ 0.27469136],\n",
       "       [ 0.27549756],\n",
       "       [ 0.26965227],\n",
       "       [ 0.26783819],\n",
       "       [ 0.25251928],\n",
       "       [ 0.26138815],\n",
       "       [ 0.25574429],\n",
       "       [ 0.25574429],\n",
       "       [ 0.26662877],\n",
       "       [ 0.26259749],\n",
       "       [ 0.26219435],\n",
       "       [ 0.2736835 ],\n",
       "       [ 0.26199282],\n",
       "       [ 0.26380688],\n",
       "       [ 0.26038026],\n",
       "       [ 0.2597756 ],\n",
       "       [ 0.25574429],\n",
       "       [ 0.26461316],\n",
       "       [ 0.26904752],\n",
       "       [ 0.28033514],\n",
       "       [ 0.28356017],\n",
       "       [ 0.29545238],\n",
       "       [ 0.32588858],\n",
       "       [ 0.3127869 ],\n",
       "       [ 0.30311191],\n",
       "       [ 0.28154456],\n",
       "       [ 0.27328036],\n",
       "       [ 0.28356017],\n",
       "       [ 0.2827539 ],\n",
       "       [ 0.27852106],\n",
       "       [ 0.27670698],\n",
       "       [ 0.29121955],\n",
       "       [ 0.29001021],\n",
       "       [ 0.30452284],\n",
       "       [ 0.30938971],\n",
       "       [ 0.30857854],\n",
       "       [ 0.30837571],\n",
       "       [ 0.3104037 ],\n",
       "       [ 0.30776738],\n",
       "       [ 0.30513122],\n",
       "       [ 0.3104037 ],\n",
       "       [ 0.3104037 ],\n",
       "       [ 0.30249504],\n",
       "       [ 0.29742533],\n",
       "       [ 0.31689283],\n",
       "       [ 0.29803373],\n",
       "       [ 0.30290055],\n",
       "       [ 0.30330606],\n",
       "       [ 0.30594238],\n",
       "       [ 0.31790668],\n",
       "       [ 0.31263434],\n",
       "       [ 0.31669   ],\n",
       "       [ 0.31222869],\n",
       "       [ 0.30614521],\n",
       "       [ 0.31303985],\n",
       "       [ 0.31080919],\n",
       "       [ 0.31547335],\n",
       "       [ 0.31669   ],\n",
       "       [ 0.30208939],\n",
       "       [ 0.31871784],\n",
       "       [ 0.31547335],\n",
       "       [ 0.317704  ],\n",
       "       [ 0.32013733],\n",
       "       [ 0.32399032],\n",
       "       [ 0.32764047],\n",
       "       [ 0.3325073 ],\n",
       "       [ 0.33554913],\n",
       "       [ 0.3292628 ],\n",
       "       [ 0.33291295],\n",
       "       [ 0.32946549],\n",
       "       [ 0.33291295],\n",
       "       [ 0.33189896],\n",
       "       [ 0.32885715],\n",
       "       [ 0.3278433 ],\n",
       "       [ 0.32277365],\n",
       "       [ 0.31709552],\n",
       "       [ 0.3278433 ],\n",
       "       [ 0.32601814],\n",
       "       [ 0.31892067],\n",
       "       [ 0.32824881],\n",
       "       [ 0.3464996 ],\n",
       "       [ 0.36941436],\n",
       "       [ 0.377323  ],\n",
       "       [ 0.37549801],\n",
       "       [ 0.38442049],\n",
       "       [ 0.38827347]])"
      ]
     },
     "execution_count": 50,
     "metadata": {},
     "output_type": "execute_result"
    }
   ],
   "source": [
    "cr.as_matrix()"
   ]
  }
 ],
 "metadata": {
  "kernelspec": {
   "display_name": "Python 3",
   "language": "python",
   "name": "python3"
  }
 },
 "nbformat": 4,
 "nbformat_minor": 2
}
